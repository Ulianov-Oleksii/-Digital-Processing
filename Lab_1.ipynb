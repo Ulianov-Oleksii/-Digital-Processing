{
 "cells": [
  {
   "cell_type": "code",
   "execution_count": 2,
   "id": "ultimate-talent",
   "metadata": {},
   "outputs": [
    {
     "ename": "SyntaxError",
     "evalue": "invalid syntax (<ipython-input-2-0b0983df86fd>, line 69)",
     "output_type": "error",
     "traceback": [
      "\u001b[1;36m  File \u001b[1;32m\"<ipython-input-2-0b0983df86fd>\"\u001b[1;36m, line \u001b[1;32m69\u001b[0m\n\u001b[1;33m    gh repo clone Ulianov-Oleksii/-Digital-Processing\u001b[0m\n\u001b[1;37m       ^\u001b[0m\n\u001b[1;31mSyntaxError\u001b[0m\u001b[1;31m:\u001b[0m invalid syntax\n"
     ]
    }
   ],
   "source": [
    "import cv2\n",
    "import numpy as np\n",
    "import matplotlib.pyplot as plt\n",
    "#1 читаем черно белое и разноцветное изображение\n",
    "img_bw = cv2.imread(\"C:\\\\Users\\\\Aleks\\\\Desktop\\Phyton\\\\Lab_1\\\\filename.png\", cv2.IMREAD_GRAYSCALE)\n",
    "img = cv2.imread(\"C:\\\\Users\\\\Aleks\\\\Desktop\\\\Phyton\\\\Lab_1\\\\rgb_1.png\")\n",
    "\n",
    "#2 отоброжаем разноцветное изображение\n",
    "plt.figure(figsize=(10, 10))\n",
    "plt.imshow(img)\n",
    "plt.show();\n",
    "#2  отоброжаем чернобелое изображение\n",
    "plt.figure(figsize=(10,10))\n",
    "plt.imshow(img_bw,cmap = 'gray')\n",
    "plt.show();\n",
    "\n",
    "#3 Превращаем разноцветное изображение из BGR в RGB и отображаем\n",
    "img_rgb = cv2.cvtColor(img, cv2.COLOR_BGR2RGB)\n",
    "plt.imshow(img_rgb)\n",
    "plt.show();\n",
    "#3 Превращаем разноцветное изображение из BGR в HSV и отображаем\n",
    "img_hsv = cv2.cvtColor(img, cv2.COLOR_BGR2HSV)\n",
    "plt.imshow(img_rgb)\n",
    "plt.show();\n",
    "\n",
    "#4 Отдельно отображаем разноцветные каналы для моделей RGB\n",
    "b, g, r = cv2.split(img_rgb)\n",
    "plt.subplot(131);\n",
    "R = np.zeros(img_rgb.shape, dtype='uint8')\n",
    "R[:, :, 0] = r\n",
    "plt.imshow(R)\n",
    "\n",
    "plt.subplot(132);\n",
    "G = np.zeros(img_rgb.shape, dtype='uint8')\n",
    "G[:, :, 1] = g\n",
    "plt.imshow(G)\n",
    "\n",
    "plt.subplot(133);\n",
    "B = np.zeros(img_rgb.shape, dtype='uint8')\n",
    "B[:, :, 2] = b\n",
    "plt.imshow(B)\n",
    "\n",
    "plt.show()\n",
    "#4 Отдельно отображаем разноцветные каналы для моделей HSV\n",
    "b, g, r = cv2.split(img_hsv)\n",
    "plt.subplot(131);\n",
    "R = np.zeros(img_hsv.shape, dtype='uint8')\n",
    "R[:, :, 0] = r\n",
    "plt.imshow(R)\n",
    "\n",
    "plt.subplot(132);\n",
    "G = np.zeros(img_hsv.shape, dtype='uint8')\n",
    "G[:, :, 1] = g\n",
    "plt.imshow(G)\n",
    "\n",
    "plt.subplot(133);\n",
    "B = np.zeros(img_hsv.shape, dtype='uint8')\n",
    "B[:, :, 2] = b\n",
    "plt.imshow(B)\n",
    "\n",
    "plt.show()\n",
    "#5 Скопировать область интереса черно белого изображения(и отобразили)\n",
    "img_crop_bw = img_bw[0:int(img_bw.shape[0]/2), 0:int(img_bw.shape[0]/2)]\n",
    "print(img_crop_bw)\n",
    "plt.imshow(img_crop_bw, cmap='gray')\n",
    "plt.show()\n",
    "#Сохраняем область интереса\n",
    "cv2.imwrite(\"obl_interest.png\",img_crop_bw)\n",
    "\n"
   ]
  },
  {
   "cell_type": "code",
   "execution_count": null,
   "id": "tight-phrase",
   "metadata": {},
   "outputs": [],
   "source": []
  }
 ],
 "metadata": {
  "kernelspec": {
   "display_name": "Python 3",
   "language": "python",
   "name": "python3"
  },
  "language_info": {
   "codemirror_mode": {
    "name": "ipython",
    "version": 3
   },
   "file_extension": ".py",
   "mimetype": "text/x-python",
   "name": "python",
   "nbconvert_exporter": "python",
   "pygments_lexer": "ipython3",
   "version": "3.9.1"
  }
 },
 "nbformat": 4,
 "nbformat_minor": 5
}
