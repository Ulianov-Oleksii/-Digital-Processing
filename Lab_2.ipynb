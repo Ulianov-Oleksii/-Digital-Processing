{
 "cells": [
  {
   "cell_type": "code",
   "execution_count": null,
   "id": "configured-ending",
   "metadata": {},
   "outputs": [],
   "source": [
    "import cv2\n",
    "import numpy as np\n",
    "from matplotlib import pyplot as plt\n",
    "\n",
    "img_half = cv2.imread(\"C:\\\\Users\\\\Aleks\\\\Desktop\\\\Phyton\\\\Lab_2\\\\Lab3_half100.png\", cv2.IMREAD_GRAYSCALE)\n",
    "img_chess = cv2.imread(\"C:\\\\Users\\\\Aleks\\\\Desktop\\\\Phyton\\\\Lab_2\\\\\\Lab3_chess100.png\", cv2.IMREAD_GRAYSCALE)\n",
    "\n",
    "plt.figure(figsize=(20,10))\n",
    "plt.subplot(121)\n",
    "plt.imshow(img_half, cmap = 'gray');\n",
    "plt.subplot(122)\n",
    "hist_half = cv2.calcHist([img_half], [0], None, [256], [0, 256])\n",
    "plt.plot(hist_half); plt.xlim([0, 255]); plt.grid(); plt.show();\n",
    "\n",
    "plt.figure(figsize=(20,10))\n",
    "plt.subplot(121)\n",
    "plt.imshow(img_chess, cmap = 'gray');\n",
    "plt.subplot(122)\n",
    "hist_chess =cv2.calcHist([img_chess], [0], None, [256], [0, 256])\n",
    "plt.plot(hist_chess); plt.xlim([0, 255]); plt.grid(); plt.show();\n",
    "\n",
    "plt.show();"
   ]
  },
  {
   "cell_type": "code",
   "execution_count": null,
   "id": "creative-harmony",
   "metadata": {},
   "outputs": [],
   "source": []
  }
 ],
 "metadata": {
  "kernelspec": {
   "display_name": "Python 3",
   "language": "python",
   "name": "python3"
  },
  "language_info": {
   "codemirror_mode": {
    "name": "ipython",
    "version": 3
   },
   "file_extension": ".py",
   "mimetype": "text/x-python",
   "name": "python",
   "nbconvert_exporter": "python",
   "pygments_lexer": "ipython3",
   "version": "3.9.1"
  }
 },
 "nbformat": 4,
 "nbformat_minor": 5
}
